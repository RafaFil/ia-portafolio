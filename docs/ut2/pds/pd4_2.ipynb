{
 "cells": [
  {
   "cell_type": "markdown",
   "metadata": {},
   "source": [
    "# UNIDAD 2 - PROCESAMIENTO PREVIO DE DATOS\n",
    "## PD4 Ej 2\n",
    "\n",
    "La idea del ejercicio es calcular la probabilidad condicional de que una persona sobreviva, dados su sexo y clase de pasajero\n",
    "\n",
    "Blog de Referencia: http://web.stanford.edu/class/archive/cs/cs109/cs109.1166/problem12.html"
   ]
  },
  {
   "cell_type": "code",
   "execution_count": 17,
   "metadata": {},
   "outputs": [
    {
     "data": {
      "text/html": [
       "<div>\n",
       "<style scoped>\n",
       "    .dataframe tbody tr th:only-of-type {\n",
       "        vertical-align: middle;\n",
       "    }\n",
       "\n",
       "    .dataframe tbody tr th {\n",
       "        vertical-align: top;\n",
       "    }\n",
       "\n",
       "    .dataframe thead th {\n",
       "        text-align: right;\n",
       "    }\n",
       "</style>\n",
       "<table border=\"1\" class=\"dataframe\">\n",
       "  <thead>\n",
       "    <tr style=\"text-align: right;\">\n",
       "      <th></th>\n",
       "      <th>PassengerId</th>\n",
       "      <th>Survived</th>\n",
       "      <th>Pclass</th>\n",
       "      <th>Name</th>\n",
       "      <th>Sex</th>\n",
       "      <th>Age</th>\n",
       "      <th>SibSp</th>\n",
       "      <th>Parch</th>\n",
       "      <th>Ticket</th>\n",
       "      <th>Fare</th>\n",
       "      <th>Cabin</th>\n",
       "      <th>Embarked</th>\n",
       "    </tr>\n",
       "  </thead>\n",
       "  <tbody>\n",
       "    <tr>\n",
       "      <th>0</th>\n",
       "      <td>1</td>\n",
       "      <td>0</td>\n",
       "      <td>3</td>\n",
       "      <td>Braund, Mr. Owen Harris</td>\n",
       "      <td>male</td>\n",
       "      <td>22.0</td>\n",
       "      <td>1</td>\n",
       "      <td>0</td>\n",
       "      <td>A/5 21171</td>\n",
       "      <td>7.2500</td>\n",
       "      <td>NaN</td>\n",
       "      <td>S</td>\n",
       "    </tr>\n",
       "    <tr>\n",
       "      <th>1</th>\n",
       "      <td>2</td>\n",
       "      <td>1</td>\n",
       "      <td>1</td>\n",
       "      <td>Cumings, Mrs. John Bradley (Florence Briggs Th...</td>\n",
       "      <td>female</td>\n",
       "      <td>38.0</td>\n",
       "      <td>1</td>\n",
       "      <td>0</td>\n",
       "      <td>PC 17599</td>\n",
       "      <td>71.2833</td>\n",
       "      <td>C85</td>\n",
       "      <td>C</td>\n",
       "    </tr>\n",
       "    <tr>\n",
       "      <th>2</th>\n",
       "      <td>3</td>\n",
       "      <td>1</td>\n",
       "      <td>3</td>\n",
       "      <td>Heikkinen, Miss. Laina</td>\n",
       "      <td>female</td>\n",
       "      <td>26.0</td>\n",
       "      <td>0</td>\n",
       "      <td>0</td>\n",
       "      <td>STON/O2. 3101282</td>\n",
       "      <td>7.9250</td>\n",
       "      <td>NaN</td>\n",
       "      <td>S</td>\n",
       "    </tr>\n",
       "    <tr>\n",
       "      <th>3</th>\n",
       "      <td>4</td>\n",
       "      <td>1</td>\n",
       "      <td>1</td>\n",
       "      <td>Futrelle, Mrs. Jacques Heath (Lily May Peel)</td>\n",
       "      <td>female</td>\n",
       "      <td>35.0</td>\n",
       "      <td>1</td>\n",
       "      <td>0</td>\n",
       "      <td>113803</td>\n",
       "      <td>53.1000</td>\n",
       "      <td>C123</td>\n",
       "      <td>S</td>\n",
       "    </tr>\n",
       "    <tr>\n",
       "      <th>4</th>\n",
       "      <td>5</td>\n",
       "      <td>0</td>\n",
       "      <td>3</td>\n",
       "      <td>Allen, Mr. William Henry</td>\n",
       "      <td>male</td>\n",
       "      <td>35.0</td>\n",
       "      <td>0</td>\n",
       "      <td>0</td>\n",
       "      <td>373450</td>\n",
       "      <td>8.0500</td>\n",
       "      <td>NaN</td>\n",
       "      <td>S</td>\n",
       "    </tr>\n",
       "  </tbody>\n",
       "</table>\n",
       "</div>"
      ],
      "text/plain": [
       "   PassengerId  Survived  Pclass   \n",
       "0            1         0       3  \\\n",
       "1            2         1       1   \n",
       "2            3         1       3   \n",
       "3            4         1       1   \n",
       "4            5         0       3   \n",
       "\n",
       "                                                Name     Sex   Age  SibSp   \n",
       "0                            Braund, Mr. Owen Harris    male  22.0      1  \\\n",
       "1  Cumings, Mrs. John Bradley (Florence Briggs Th...  female  38.0      1   \n",
       "2                             Heikkinen, Miss. Laina  female  26.0      0   \n",
       "3       Futrelle, Mrs. Jacques Heath (Lily May Peel)  female  35.0      1   \n",
       "4                           Allen, Mr. William Henry    male  35.0      0   \n",
       "\n",
       "   Parch            Ticket     Fare Cabin Embarked  \n",
       "0      0         A/5 21171   7.2500   NaN        S  \n",
       "1      0          PC 17599  71.2833   C85        C  \n",
       "2      0  STON/O2. 3101282   7.9250   NaN        S  \n",
       "3      0            113803  53.1000  C123        S  \n",
       "4      0            373450   8.0500   NaN        S  "
      ]
     },
     "execution_count": 17,
     "metadata": {},
     "output_type": "execute_result"
    }
   ],
   "source": [
    "import pandas as pd\n",
    "\n",
    "titanic_data = pd.read_csv(\"train.csv\")\n",
    "\n",
    "titanicData.head()"
   ]
  },
  {
   "cell_type": "markdown",
   "metadata": {},
   "source": [
    "## Probabilidad condicional de sobrevivir dado si el genero y dado la clase"
   ]
  },
  {
   "cell_type": "code",
   "execution_count": 18,
   "metadata": {},
   "outputs": [
    {
     "name": "stdout",
     "output_type": "stream",
     "text": [
      "P(Survived=1 | Sex=female, Pclass=1): 0.9680851063829787\n"
     ]
    }
   ],
   "source": [
    "total_female_class1 = len(titanic_data[(titanic_data['Sex'] == 'female') & (titanic_data['Pclass'] == 1)])\n",
    "female_class1_survive = len(titanic_data[(titanic_data['Sex'] == 'female') & (titanic_data['Pclass'] == 1) & (titanic_data['Survived'] == 1)])\n",
    "prob_female_class1_survive = female_class1_survive / total_female_class1 if total_female_class1 > 0 else 0\n",
    "\n",
    "print(\"P(Survived=1 | Sex=female, Pclass=1):\", prob_female_class1_survive)"
   ]
  },
  {
   "cell_type": "code",
   "execution_count": 19,
   "metadata": {},
   "outputs": [
    {
     "name": "stdout",
     "output_type": "stream",
     "text": [
      "P(Survived=1 | Sex=female, Pclass=2): 0.9210526315789473\n"
     ]
    }
   ],
   "source": [
    "total_female_class2 = len(titanic_data[(titanic_data['Sex'] == 'female') & (titanic_data['Pclass'] == 2)])\n",
    "female_class2_survive = len(titanic_data[(titanic_data['Sex'] == 'female') & (titanic_data['Pclass'] == 2) & (titanic_data['Survived'] == 1)])\n",
    "prob_female_class2_survive = female_class2_survive / total_female_class2 if total_female_class2 > 0 else 0\n",
    "\n",
    "print(\"P(Survived=1 | Sex=female, Pclass=2):\", prob_female_class2_survive)"
   ]
  },
  {
   "cell_type": "code",
   "execution_count": 20,
   "metadata": {},
   "outputs": [
    {
     "name": "stdout",
     "output_type": "stream",
     "text": [
      "P(Survived=1 | Sex=female, Pclass=3): 0.5\n"
     ]
    }
   ],
   "source": [
    "total_female_class3 = len(titanic_data[(titanic_data['Sex'] == 'female') & (titanic_data['Pclass'] == 3)])\n",
    "female_class3_survive = len(titanic_data[(titanic_data['Sex'] == 'female') & (titanic_data['Pclass'] == 3) & (titanic_data['Survived'] == 1)])\n",
    "prob_female_class3_survive = female_class3_survive / total_female_class3 if total_female_class3 > 0 else 0\n",
    "\n",
    "print(\"P(Survived=1 | Sex=female, Pclass=3):\", prob_female_class3_survive)"
   ]
  },
  {
   "cell_type": "code",
   "execution_count": 21,
   "metadata": {},
   "outputs": [
    {
     "name": "stdout",
     "output_type": "stream",
     "text": [
      "P(Survived=1 | Sex=male, Pclass=1): 0.36885245901639346\n"
     ]
    }
   ],
   "source": [
    "total_male_class1 = len(titanic_data[(titanic_data['Sex'] == 'male') & (titanic_data['Pclass'] == 1)])\n",
    "male_class1_survive = len(titanic_data[(titanic_data['Sex'] == 'male') & (titanic_data['Pclass'] == 1) & (titanic_data['Survived'] == 1)])\n",
    "prob_male_class1_survive = male_class1_survive / total_male_class1 if total_male_class1 > 0 else 0\n",
    "\n",
    "print(\"P(Survived=1 | Sex=male, Pclass=1):\", prob_male_class1_survive)"
   ]
  },
  {
   "cell_type": "code",
   "execution_count": 22,
   "metadata": {},
   "outputs": [
    {
     "name": "stdout",
     "output_type": "stream",
     "text": [
      "P(Survived=1 | Sex=male, Pclass=2): 0.1574074074074074\n"
     ]
    }
   ],
   "source": [
    "total_male_class2 = len(titanic_data[(titanic_data['Sex'] == 'male') & (titanic_data['Pclass'] == 2)])\n",
    "male_class2_survive = len(titanic_data[(titanic_data['Sex'] == 'male') & (titanic_data['Pclass'] == 2) & (titanic_data['Survived'] == 1)])\n",
    "prob_male_class2_survive = male_class2_survive / total_male_class2 if total_male_class2 > 0 else 0\n",
    "\n",
    "print(\"P(Survived=1 | Sex=male, Pclass=2):\", prob_male_class2_survive)"
   ]
  },
  {
   "cell_type": "code",
   "execution_count": 23,
   "metadata": {},
   "outputs": [
    {
     "name": "stdout",
     "output_type": "stream",
     "text": [
      "P(Survived=1 | Sex=male, Pclass=3): 0.13544668587896252\n"
     ]
    }
   ],
   "source": [
    "total_male_class3 = len(titanic_data[(titanic_data['Sex'] == 'male') & (titanic_data['Pclass'] == 3)])\n",
    "male_class3_survive = len(titanic_data[(titanic_data['Sex'] == 'male') & (titanic_data['Pclass'] == 3) & (titanic_data['Survived'] == 1)])\n",
    "prob_male_class3_survive = male_class3_survive / total_male_class3 if total_male_class3 > 0 else 0\n",
    "\n",
    "print(\"P(Survived=1 | Sex=male, Pclass=3):\", prob_male_class3_survive)"
   ]
  },
  {
   "cell_type": "code",
   "execution_count": 24,
   "metadata": {},
   "outputs": [
    {
     "name": "stdout",
     "output_type": "stream",
     "text": [
      "P(Survived=1 | Age<=10, Pclass=3): 0.4318181818181818\n"
     ]
    }
   ],
   "source": [
    "total_child_class3 = len(titanic_data[(titanic_data['Age'] <= 10) & (titanic_data['Pclass'] == 3)])\n",
    "child_class3_survive = len(titanic_data[(titanic_data['Age'] <= 10) & (titanic_data['Pclass'] == 3) & (titanic_data['Survived'] == 1)])\n",
    "prob_child_class3_survive = child_class3_survive / total_child_class3 if total_child_class3 > 0 else 0\n",
    "\n",
    "print(\"P(Survived=1 | Age<=10, Pclass=3):\", prob_child_class3_survive)"
   ]
  }
 ],
 "metadata": {
  "kernelspec": {
   "display_name": "Python 3",
   "language": "python",
   "name": "python3"
  },
  "language_info": {
   "codemirror_mode": {
    "name": "ipython",
    "version": 3
   },
   "file_extension": ".py",
   "mimetype": "text/x-python",
   "name": "python",
   "nbconvert_exporter": "python",
   "pygments_lexer": "ipython3",
   "version": "3.10.11"
  },
  "orig_nbformat": 4
 },
 "nbformat": 4,
 "nbformat_minor": 2
}
